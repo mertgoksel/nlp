{
 "cells": [
  {
   "cell_type": "code",
   "execution_count": 1,
   "id": "ae9d41bb-e2e8-4bf1-b2ed-e09fc3103ff5",
   "metadata": {},
   "outputs": [],
   "source": [
    "import numpy as np, pandas as pd, re, pickle, spacy, string\n",
    "from lingua import Language, LanguageDetectorBuilder\n",
    "from sklearn import neighbors\n",
    "from scipy import spatial\n",
    "from bs4 import BeautifulSoup\n",
    "import nltk\n",
    "from nltk.stem import PorterStemmer\n",
    "from nltk.stem.wordnet import WordNetLemmatizer\n",
    "nlp = spacy.load(\"en_core_web_lg\")"
   ]
  },
  {
   "cell_type": "markdown",
   "id": "3ab3e606-087e-45b0-ae66-3b7e0d60dbcd",
   "metadata": {},
   "source": [
    "### Working classifier but need faster"
   ]
  },
  {
   "cell_type": "code",
   "execution_count": 21,
   "id": "1de00ced-7bee-43ad-9cb4-2677d4de775a",
   "metadata": {},
   "outputs": [],
   "source": [
    "from transformers import pipeline\n",
    "\n",
    "classifier = pipeline('zero-shot-classification', model='facebook/bart-large-mnli')"
   ]
  },
  {
   "cell_type": "code",
   "execution_count": 76,
   "id": "d0be84cc-218d-4d31-a4fd-172bb98581cb",
   "metadata": {
    "tags": []
   },
   "outputs": [],
   "source": [
    "labels = {\n",
    "\"application fee\": 0,\n",
    "\"course fee\": 1,\n",
    "\"deposit fee\": 2,\n",
    "\"donation\": 3,\n",
    "\"membership\": 4,\n",
    "\"product fee\": 5,\n",
    "\"registration fee\": 6,\n",
    "\"service fee\": 7,\n",
    "\"setup fee\": 8,\n",
    "\"contract fee\": 9,\n",
    "\"subscription\": 10}\n",
    "ll = list(labels.keys())\n",
    "c2l = {v:i for i,v in labels.items()}"
   ]
  },
  {
   "cell_type": "code",
   "execution_count": 22,
   "id": "e0c03c12-bc94-46f8-a63d-c25e04e33967",
   "metadata": {},
   "outputs": [],
   "source": [
    "labels = ll\n",
    "hypothesis_template = 'This text is about {}.'"
   ]
  },
  {
   "cell_type": "code",
   "execution_count": 49,
   "id": "495e05d1-1c44-4c0e-a8fc-0ec89ddf40d0",
   "metadata": {},
   "outputs": [
    {
     "data": {
      "text/plain": [
       "9548"
      ]
     },
     "execution_count": 49,
     "metadata": {},
     "output_type": "execute_result"
    }
   ],
   "source": [
    "np.random.randint(1000, len(k))"
   ]
  },
  {
   "cell_type": "code",
   "execution_count": 50,
   "id": "8e1b6da0-3a61-4509-9cea-e898b011eab8",
   "metadata": {},
   "outputs": [
    {
     "data": {
      "text/plain": [
       "\"Submit Full Name E - mail Address Phone Number Donation Founded in 1970 , Senior Citizens Home Assistance Service , Inc. ( SCHAS ) mission is to improve the quality of life for the elderly , persons with disabilities , and their families by providing accessible care and supportive services through compassionate personnel . SCHAS ’ programs include in - home caregiving services , independent living at Cedar Point for low - income seniors in Tazewell , Tennessee , transportation , and the nationally - award winning SCHAS Out Shopping free grocery shopping - delivery service for any East Tennessee resident that is age 60 or older . Financial Aid for In - Home Caregiving Services : SCHAS helps the elderly and the adult disabled stay safely in their homes and provide respite for their families with kind , trained , in - home caregivers . \\xa0  SCHAS serves 20 counties throughout the East Tennessee region . \\xa0  Unlike other care giving agencies , SCHAS offers financial aid to clients who need the services but can not afford the full fee . We cover up to $ 8 per hour of service for clients that rely on a government program including CHOICES , National Family Care Giver and Title III and for clients who do not qualify for government assistance , we offer a sliding scale fee where we cover what the client can not afford out of pocket . \\xa0  Through grants , fundraisers and support from the United Way , SCHAS can help those with the greatest need . S.O.S. SCHAS Out Shopping : In the wake of the COVID-19 pandemic , SCHAS created a free grocery shopping and devliery service for citizens with compromised immune systems and those age 60 or older . \\xa0  Donations for this fund help cover the expenses to run the program including Shoppers and Order takers ' wages and mileage . \\xa0  This nationally award winning program helps get groceires to seniors who no longer can drive or shop safely on their own . Transportation : SCHAS has created a transportation program in August 2021 to assist seniors to their doctor 's appointment and to run errands in which they may need assistance . The SCHAS employees stays with the client from pick up until they return them safely home . \\xa0  This has been a great service for those who require diagnostic testing that requires an adult to be present at the appointment . Pet Food Pantry : Some of our clients who have pets struggle from time to time to keep up with their pet 's food needs . \\xa0  They will give them their food before they feed themselves so to insure our clients stay safe and healthy and be able to keep their loved companions , we have created a pet food pantry to help with this need . Endowment Fund : The Endowment Fund is a long term fund in which the principal is never touched and the interest accrued can be used at SCHAS ' discretion including expanding or supporting a current programs ; starting a new program to purchasing a vehicle in a rural county to help transport clients , etc . \\xa0 The Endowmen Fund insures SCHAS ' future . Continuing Education Fund : SCHAS understands that without well trained care givers , our mission would not be met . \\xa0 We believe in investing in the training of our caregivers . \\xa0 We offer continuing education to our care givers based on their years of service , in dementia , chronic diseases and sensitivity training . We also sponsor CNA certification . Each course they pass offers them an increase in pay and the knowledge to provide I would like to support a specific SCHAS County Please apply my donation to the following fund : This donation has been made in MEMORY of the following person : This donation has been made in HONOR of the following person :\""
      ]
     },
     "execution_count": 50,
     "metadata": {},
     "output_type": "execute_result"
    }
   ],
   "source": [
    "sequence = ' '.join([token.text for token in nlp(' '.join(k[9548]))])\n",
    "sequence"
   ]
  },
  {
   "cell_type": "code",
   "execution_count": 51,
   "id": "91cf9d43-f50a-42e5-bfce-084f35828beb",
   "metadata": {},
   "outputs": [
    {
     "name": "stdout",
     "output_type": "stream",
     "text": [
      "                         0\n",
      "0.291330          donation\n",
      "0.117854   application fee\n",
      "0.110512         setup fee\n",
      "0.107790       product fee\n",
      "0.098279        course fee\n",
      "0.068068       deposit fee\n",
      "0.061622       service fee\n",
      "0.041803      contract fee\n",
      "0.039011      subscription\n",
      "0.033177        membership\n",
      "0.030555  registration fee\n"
     ]
    }
   ],
   "source": [
    "prediction = classifier(sequence, ll, sequenceothesis_template=hypothesis_template)\n",
    "\n",
    "print(pd.DataFrame(prediction['labels'], prediction['scores']))"
   ]
  },
  {
   "cell_type": "code",
   "execution_count": 52,
   "id": "8457941b-dff7-45bb-a8c2-841870706ae2",
   "metadata": {},
   "outputs": [],
   "source": [
    "test = np.mean([i.vector for i in nlp(' '.join(k[9548]))], axis=0)"
   ]
  },
  {
   "cell_type": "code",
   "execution_count": 53,
   "id": "c28c040d-1caa-49aa-8891-d7d771feec2d",
   "metadata": {},
   "outputs": [
    {
     "data": {
      "text/plain": [
       "'donation'"
      ]
     },
     "execution_count": 53,
     "metadata": {},
     "output_type": "execute_result"
    }
   ],
   "source": [
    "c2l[cm.predict(test.reshape(1,-1))[0]]"
   ]
  },
  {
   "cell_type": "markdown",
   "id": "5ef1e184-229c-4794-a04a-8327d902d779",
   "metadata": {},
   "source": [
    "# Get json from api"
   ]
  },
  {
   "cell_type": "code",
   "execution_count": 36,
   "id": "96a0ad43-cdbb-48a9-8198-b0fbeee50cdc",
   "metadata": {},
   "outputs": [],
   "source": [
    "import nest_asyncio \n",
    "nest_asyncio.apply() #needed as this is jupyter\n",
    "\n",
    "import asyncio\n",
    "import aiohttp\n",
    "\n",
    "res = []"
   ]
  },
  {
   "cell_type": "code",
   "execution_count": 125,
   "id": "983ea717-213b-4a0c-b87f-d54895ed6c0d",
   "metadata": {},
   "outputs": [],
   "source": [
    "ids = pd.read_csv(\"./payment_forms_dataset.csv\", header=None)"
   ]
  },
  {
   "cell_type": "code",
   "execution_count": 126,
   "id": "3342dced-366a-42ef-b2ca-7cf49c178976",
   "metadata": {},
   "outputs": [],
   "source": [
    "urls = []\n",
    "for i, row in ids.iterrows():\n",
    "    urls.append(f\"https://api.jotform.com/form/{row[0]}/questions?apiKey=06c38963c5de8d06c64b64c8fa9f31a8\")\n",
    "    \n",
    "#/formsuda çek "
   ]
  },
  {
   "cell_type": "code",
   "execution_count": null,
   "id": "e0692589-bda3-4154-accb-a8500e39e35c",
   "metadata": {
    "tags": []
   },
   "outputs": [],
   "source": [
    "async def get_json(session, url):\n",
    "    async with session.get(url) as resp:\n",
    "        json = await resp.json()\n",
    "        return json\n",
    "\n",
    "async def main1():\n",
    "    async with aiohttp.ClientSession() as session:\n",
    "        tasks = []\n",
    "        for url in urls[:50000]:\n",
    "            tasks.append(asyncio.ensure_future(get_json(session, url)))\n",
    "        result = await asyncio.gather(*tasks)\n",
    "        res.append(result)\n",
    "\n",
    "async def main2():\n",
    "    async with aiohttp.ClientSession() as session:\n",
    "        tasks = []\n",
    "        for url in urls[50000:100000]:\n",
    "            tasks.append(asyncio.ensure_future(get_json(session, url)))\n",
    "        result = await asyncio.gather(*tasks)\n",
    "        res.append(result)\n",
    "\n",
    "async def main3():\n",
    "    async with aiohttp.ClientSession() as session:\n",
    "        tasks = []\n",
    "        for url in urls[100000:]:\n",
    "            tasks.append(asyncio.ensure_future(get_json(session, url)))\n",
    "        result = await asyncio.gather(*tasks)\n",
    "        res.append(result)\n",
    "\n",
    "asyncio.run(main1())\n",
    "asyncio.run(main2())\n",
    "asyncio.run(main3())"
   ]
  },
  {
   "cell_type": "code",
   "execution_count": null,
   "id": "6686b2f5-de47-4085-8a2a-08829e3cc2bd",
   "metadata": {},
   "outputs": [],
   "source": [
    "res = [*res[0], *res[1], *res[2]]"
   ]
  },
  {
   "cell_type": "code",
   "execution_count": 54,
   "id": "c1bf8c42-c032-498c-87b1-fd2c749b6bbd",
   "metadata": {},
   "outputs": [],
   "source": [
    "res = [i for i in res if i['responseCode'] == 200]"
   ]
  },
  {
   "cell_type": "code",
   "execution_count": 18,
   "id": "3ea7ef11-1b22-417c-8438-7bfea9567084",
   "metadata": {},
   "outputs": [],
   "source": [
    "with open('data1.pkl', 'wb') as handle:\n",
    "    pickle.dump(res, handle, protocol=pickle.HIGHEST_PROTOCOL)"
   ]
  },
  {
   "cell_type": "markdown",
   "id": "9df2e626-5fed-45bc-9b40-b94b38d789ae",
   "metadata": {},
   "source": [
    "# Checkpoint 1"
   ]
  },
  {
   "cell_type": "markdown",
   "id": "fb3a6912-8b81-4d26-b60c-5d967b578710",
   "metadata": {},
   "source": [
    "## Get text from json"
   ]
  },
  {
   "cell_type": "code",
   "execution_count": 2,
   "id": "3b842d27-02b0-4534-a909-7a47f90e2eba",
   "metadata": {},
   "outputs": [],
   "source": [
    "with open('data1.pkl', 'rb') as handle:\n",
    "    k = pickle.load(handle)"
   ]
  },
  {
   "cell_type": "code",
   "execution_count": 3,
   "id": "c3a1b6dc-0200-46ad-b603-416f05cd8a85",
   "metadata": {},
   "outputs": [],
   "source": [
    "k = [i['content'] for i in k]"
   ]
  },
  {
   "cell_type": "code",
   "execution_count": 4,
   "id": "acf12cd1-2f05-459e-9981-ea58c9eb5e90",
   "metadata": {},
   "outputs": [],
   "source": [
    "with open('langs2.pkl', 'rb') as handle:\n",
    "    langs = pickle.load(handle)"
   ]
  },
  {
   "cell_type": "code",
   "execution_count": 5,
   "id": "efd24963-7f33-4ecf-8429-3d3e75264631",
   "metadata": {
    "tags": []
   },
   "outputs": [],
   "source": [
    "pp = []\n",
    "for i in k:\n",
    "    if type(i) == dict:\n",
    "        p = []\n",
    "        for n in i.values():\n",
    "            for j in n:\n",
    "                if j == 'text' or j == 'subHeader':\n",
    "                    p.append(n[j])\n",
    "        pp.append(p)"
   ]
  },
  {
   "cell_type": "code",
   "execution_count": 6,
   "id": "c529c7c5-a05f-4a7a-938c-a80f9d2dedbc",
   "metadata": {},
   "outputs": [],
   "source": [
    "del k"
   ]
  },
  {
   "cell_type": "code",
   "execution_count": 7,
   "id": "d6268f37-6468-4136-ab02-781f7c277449",
   "metadata": {},
   "outputs": [],
   "source": [
    "pp = [v for i,v in enumerate(pp) if langs[i] == Language.ENGLISH]"
   ]
  },
  {
   "cell_type": "code",
   "execution_count": 8,
   "id": "bedda75e-31d0-4ade-9dbc-9c4840d4555f",
   "metadata": {},
   "outputs": [],
   "source": [
    "def clean_html(html):\n",
    "\n",
    "    # parse html content\n",
    "    soup = BeautifulSoup(html, \"html.parser\")\n",
    "\n",
    "    for data in soup(['style', 'script', 'code', 'a']):\n",
    "        # Remove tags\n",
    "        data.decompose()\n",
    "\n",
    "    # return data by retrieving the tag content\n",
    "    return ' '.join(soup.stripped_strings)"
   ]
  },
  {
   "cell_type": "code",
   "execution_count": 9,
   "id": "fdb6c737-e5bb-406e-8746-0b13ee6e48d7",
   "metadata": {},
   "outputs": [
    {
     "name": "stderr",
     "output_type": "stream",
     "text": [
      "C:\\Python\\envs\\myenv\\lib\\site-packages\\bs4\\__init__.py:435: MarkupResemblesLocatorWarning: The input looks more like a filename than markup. You may want to open this file and pass the filehandle into Beautiful Soup.\n",
      "  warnings.warn(\n",
      "C:\\Python\\envs\\myenv\\lib\\site-packages\\bs4\\__init__.py:404: MarkupResemblesLocatorWarning: The input looks more like a URL than markup. You may want to use an HTTP client like requests to get the document behind the URL, and feed that document to Beautiful Soup.\n",
      "  warnings.warn(\n"
     ]
    }
   ],
   "source": [
    "pp = [[clean_html(j) for j in i] for i in pp]"
   ]
  },
  {
   "cell_type": "code",
   "execution_count": 19,
   "id": "662ca55a-bcd2-4898-bb0f-e44f25a190f9",
   "metadata": {},
   "outputs": [],
   "source": [
    "words = ['', 'page break', 'email', 'submit', 'street adress', 'city', 'zip', 'state', 'section separator form style remove', 'name']\n",
    "pp = [[j for j in i if j not in words] for i in pp]"
   ]
  },
  {
   "cell_type": "code",
   "execution_count": 25,
   "id": "dbbb43f9-539d-4a20-a901-b41dd4409f5a",
   "metadata": {},
   "outputs": [
    {
     "data": {
      "text/plain": [
       "['Submit Donation',\n",
       " 'Your Full Name',\n",
       " 'Phone Number',\n",
       " 'E-mail',\n",
       " 'Donation Amount',\n",
       " 'Once all eligible nominees’ wishes have been fulfilled, Herald Charities Inc. may use funds for other charitable purposes.\\xa0Herald Charities Inc., is a separately incorporated 501 (c)(3) charitable organization. All donations to Herald Charities, Inc. are tax deductible as allowed by law. No goods or services were provided in return for this contribution. Herald Charities, Inc. has complied with the registration requirements of Chapter 496, Florida Statures, the Solicitations of Contributions Act. A COPY OF THE OFFICIAL REGISTRATION AND FINANCIAL INFORMATION MAY BE OBTAINED FROM THE DIVISION OF CONSUMER SERVICES BY CALLING TOLL-FREE 1-800-435-7352 WITHIN THE STATE. REGISTRATION DOES NOT IMPLY ENDORSEMENT, APPROVAL, OR RECOMMENDATION BY THE STATE.',\n",
       " 'mh-enh-bottom-logo',\n",
       " 'Anonymous',\n",
       " 'For 40 years, the Miami Herald Wish Book Program has spotlighted the needs of less fortunate individuals in South\\xa0Florida. This program offers our readers an opportunity to make a difference in a neighbor’s life, especially during the holidays. The Miami Herald readers, together with Spanish-language readers of El Nuevo Herald have contributed several million dollars to assist some of the neediest people in our community with a variety wishes ranging from food, clothes, and maybe some toys for the holidays - to more desperately needed items such as medical services, wheelchairs, lifts, housing and home repairs, beds and dental work. Over the years, Miami Herald readers have responded generously, helping more than 50,000 people in our community with their most pressing concerns. You can help too, by granting a special wish and making the holidays brighter for someone in need. To donate, fill out the form below. To read our latest Wish Book stories, visit . For more information, please call 305-376-2906. If you prefer to mail your donation, for a printable form and send it to Herald Charities, Inc., 11410 NW 20th Street, Ste. 222, Miami, FL 33172',\n",
       " 'Note: To avoid possible duplicate charges, please\\xa0press the Submit button only once and close the browser when done. Do not navigate forward and/or back on the web page.',\n",
       " 'wishbook-header',\n",
       " 'How   would you like your name/company listed in the Miami Herald Thank You Ad',\n",
       " 'In Honor of:',\n",
       " 'In Memory of :',\n",
       " \"Enter the message as it's shown\"]"
      ]
     },
     "execution_count": 25,
     "metadata": {},
     "output_type": "execute_result"
    }
   ],
   "source": [
    "pp[0]"
   ]
  },
  {
   "cell_type": "code",
   "execution_count": 26,
   "id": "8c910e3c-58ae-48f2-9f4d-c0645db65b2a",
   "metadata": {},
   "outputs": [],
   "source": [
    "with open('data2.pkl', 'wb') as handle:\n",
    "    pickle.dump(pp, handle, protocol=pickle.HIGHEST_PROTOCOL)"
   ]
  },
  {
   "cell_type": "markdown",
   "id": "25b21061-3e78-4390-8892-71a17a271102",
   "metadata": {},
   "source": [
    "## Get hand data"
   ]
  },
  {
   "cell_type": "code",
   "execution_count": 56,
   "id": "21b3fc0f-6c91-41a2-8eaf-b485e9fbb62b",
   "metadata": {},
   "outputs": [],
   "source": [
    "with open('hand_train', 'rb') as handle:\n",
    "    hand = pickle.load(handle)"
   ]
  },
  {
   "cell_type": "code",
   "execution_count": 57,
   "id": "ebdeb294-c1d1-49f6-888e-6f423d612e77",
   "metadata": {},
   "outputs": [],
   "source": [
    "hand = pd.DataFrame(hand)"
   ]
  },
  {
   "cell_type": "code",
   "execution_count": 58,
   "id": "c1fbf26b-034e-4941-bdb8-2ed18b701913",
   "metadata": {},
   "outputs": [],
   "source": [
    "hand.columns = ['url', 'label']"
   ]
  },
  {
   "cell_type": "code",
   "execution_count": 59,
   "id": "505b43b4-22de-4e5f-a151-106632ce24a8",
   "metadata": {},
   "outputs": [],
   "source": [
    "hand['id'] = hand.url.apply(lambda x: x.split(u'/')[-1])"
   ]
  },
  {
   "cell_type": "code",
   "execution_count": 60,
   "id": "80cd7f60-3f7b-4ab8-8537-f93d4c3629a5",
   "metadata": {},
   "outputs": [],
   "source": [
    "hand['url'] = hand.id.apply(lambda x: f\"https://api.jotform.com/form/{x}/questions?apiKey=06c38963c5de8d06c64b64c8fa9f31a8\")"
   ]
  },
  {
   "cell_type": "code",
   "execution_count": 61,
   "id": "ac3dbac8-4a61-4a70-a5f3-08805686efb9",
   "metadata": {},
   "outputs": [],
   "source": [
    "jsons = []"
   ]
  },
  {
   "cell_type": "code",
   "execution_count": 62,
   "id": "e8ecc12b-540c-451e-913a-febf1fa12c36",
   "metadata": {},
   "outputs": [],
   "source": [
    "async def get_json(session, url):\n",
    "    async with session.get(url) as resp:\n",
    "        json = await resp.json()\n",
    "        return json\n",
    "\n",
    "async def main1():\n",
    "    async with aiohttp.ClientSession() as session:\n",
    "        tasks = []\n",
    "        for url in hand.url:\n",
    "            tasks.append(asyncio.ensure_future(get_json(session, url)))\n",
    "        result = await asyncio.gather(*tasks)\n",
    "        jsons.append(result)\n",
    "        \n",
    "asyncio.run(main1())"
   ]
  },
  {
   "cell_type": "code",
   "execution_count": 63,
   "id": "24597bc2-0258-459d-8bc1-e03d8bbbf8fd",
   "metadata": {},
   "outputs": [],
   "source": [
    "hand['json'] = jsons[0]"
   ]
  },
  {
   "cell_type": "code",
   "execution_count": 64,
   "id": "362a7680-4549-424c-9770-2e69169d7428",
   "metadata": {},
   "outputs": [],
   "source": [
    "hand.json = hand.json.apply(lambda x: x['content'])"
   ]
  },
  {
   "cell_type": "code",
   "execution_count": 65,
   "id": "7a740c22-4b26-455e-9cd8-99d5606870a6",
   "metadata": {},
   "outputs": [],
   "source": [
    "pp = []\n",
    "for i in hand.json:\n",
    "    if type(i) == dict:\n",
    "        p = []\n",
    "        for n in i.values():\n",
    "            for j in n:\n",
    "                if j == 'text' or j == 'subHeader':\n",
    "                    p.append(n[j])\n",
    "        pp.append(p)\n",
    "    else:\n",
    "        pp.append([])"
   ]
  },
  {
   "cell_type": "code",
   "execution_count": 66,
   "id": "ce29103a-2102-489b-b501-45c2852cd68d",
   "metadata": {},
   "outputs": [
    {
     "name": "stderr",
     "output_type": "stream",
     "text": [
      "C:\\Python\\envs\\myenv\\lib\\site-packages\\bs4\\__init__.py:435: MarkupResemblesLocatorWarning: The input looks more like a filename than markup. You may want to open this file and pass the filehandle into Beautiful Soup.\n",
      "  warnings.warn(\n"
     ]
    }
   ],
   "source": [
    "handj = [[clean_html(j) for j in i] for i in pp]"
   ]
  },
  {
   "cell_type": "code",
   "execution_count": 67,
   "id": "0a9c7eef-176d-4b6c-a903-641996b4498c",
   "metadata": {},
   "outputs": [],
   "source": [
    "words = ['', 'page break', 'email', 'submit', 'street adress', 'city', 'zip', 'state', 'section separator form style remove', 'name']\n",
    "handj = [[j for j in i if j not in words] for i in handj]"
   ]
  },
  {
   "cell_type": "code",
   "execution_count": 68,
   "id": "bdb13a21-5bf1-45d3-a83c-f89e71f3174d",
   "metadata": {},
   "outputs": [],
   "source": [
    "hand['text'] = handj"
   ]
  },
  {
   "cell_type": "code",
   "execution_count": 69,
   "id": "779371e0-7c79-47ae-acba-8e62b5b5d118",
   "metadata": {},
   "outputs": [],
   "source": [
    "hand.text = hand.text.apply(lambda x: '. '.join(x))"
   ]
  },
  {
   "cell_type": "code",
   "execution_count": 71,
   "id": "fb291487-026a-42f0-a788-1f954779fee3",
   "metadata": {},
   "outputs": [],
   "source": [
    "detector = LanguageDetectorBuilder.from_all_languages().build()\n",
    "hand['langs'] = hand.text.apply(lambda x: detector.detect_language_of(x))"
   ]
  },
  {
   "cell_type": "code",
   "execution_count": 72,
   "id": "6014829e-7610-4994-a5db-881f1017ae28",
   "metadata": {},
   "outputs": [],
   "source": [
    "hand = hand[hand.langs == Language.ENGLISH]"
   ]
  },
  {
   "cell_type": "code",
   "execution_count": 73,
   "id": "bd75b277-9613-458c-a6b6-ba8790ffcfb6",
   "metadata": {},
   "outputs": [
    {
     "name": "stderr",
     "output_type": "stream",
     "text": [
      "C:\\temp\\ipykernel_24036\\2793397263.py:1: SettingWithCopyWarning: \n",
      "A value is trying to be set on a copy of a slice from a DataFrame\n",
      "\n",
      "See the caveats in the documentation: https://pandas.pydata.org/pandas-docs/stable/user_guide/indexing.html#returning-a-view-versus-a-copy\n",
      "  hand.drop(columns=['url', 'id', 'json', 'langs'], axis=1, inplace=True)\n"
     ]
    }
   ],
   "source": [
    "hand.drop(columns=['url', 'id', 'json', 'langs'], axis=1, inplace=True)"
   ]
  },
  {
   "cell_type": "code",
   "execution_count": 74,
   "id": "a66ad0f2-cf5a-4e93-9790-7c96e1930342",
   "metadata": {},
   "outputs": [
    {
     "data": {
      "text/html": [
       "<div>\n",
       "<style scoped>\n",
       "    .dataframe tbody tr th:only-of-type {\n",
       "        vertical-align: middle;\n",
       "    }\n",
       "\n",
       "    .dataframe tbody tr th {\n",
       "        vertical-align: top;\n",
       "    }\n",
       "\n",
       "    .dataframe thead th {\n",
       "        text-align: right;\n",
       "    }\n",
       "</style>\n",
       "<table border=\"1\" class=\"dataframe\">\n",
       "  <thead>\n",
       "    <tr style=\"text-align: right;\">\n",
       "      <th></th>\n",
       "      <th>label</th>\n",
       "      <th>text</th>\n",
       "    </tr>\n",
       "  </thead>\n",
       "  <tbody>\n",
       "    <tr>\n",
       "      <th>0</th>\n",
       "      <td>[service fee]</td>\n",
       "      <td>18x24 Yard Signs - EXPIRES Dec 31st @ 11:59pm....</td>\n",
       "    </tr>\n",
       "    <tr>\n",
       "      <th>1</th>\n",
       "      <td>[service fee]</td>\n",
       "      <td>Deprecated Drive-Thru Booking. Test Date. Page...</td>\n",
       "    </tr>\n",
       "    <tr>\n",
       "      <th>2</th>\n",
       "      <td>[service fee]</td>\n",
       "      <td>BuySocialTraffic Service Order Form. E-mail. S...</td>\n",
       "    </tr>\n",
       "    <tr>\n",
       "      <th>3</th>\n",
       "      <td>[donation]</td>\n",
       "      <td>Donation Amount</td>\n",
       "    </tr>\n",
       "    <tr>\n",
       "      <th>4</th>\n",
       "      <td>[donation]</td>\n",
       "      <td>Submit. Enter Donation Amount Here. What would...</td>\n",
       "    </tr>\n",
       "  </tbody>\n",
       "</table>\n",
       "</div>"
      ],
      "text/plain": [
       "           label                                               text\n",
       "0  [service fee]  18x24 Yard Signs - EXPIRES Dec 31st @ 11:59pm....\n",
       "1  [service fee]  Deprecated Drive-Thru Booking. Test Date. Page...\n",
       "2  [service fee]  BuySocialTraffic Service Order Form. E-mail. S...\n",
       "3     [donation]                                    Donation Amount\n",
       "4     [donation]  Submit. Enter Donation Amount Here. What would..."
      ]
     },
     "execution_count": 74,
     "metadata": {},
     "output_type": "execute_result"
    }
   ],
   "source": [
    "hand.head()"
   ]
  },
  {
   "cell_type": "code",
   "execution_count": 75,
   "id": "1da442ec-72ee-46df-a679-1ffb126f415d",
   "metadata": {},
   "outputs": [],
   "source": [
    "with open('hand_train.pkl', 'wb') as handle:\n",
    "    pickle.dump(hand, handle, protocol=pickle.HIGHEST_PROTOCOL)"
   ]
  },
  {
   "cell_type": "markdown",
   "id": "4ef2ad64-64d8-4544-8b08-999506b33c33",
   "metadata": {
    "tags": []
   },
   "source": [
    "# Checkpoint 2"
   ]
  },
  {
   "cell_type": "code",
   "execution_count": 13,
   "id": "09fb2e4b-fa23-4006-97cd-f18d05dfcb03",
   "metadata": {},
   "outputs": [],
   "source": [
    "with open('data2.pkl', 'rb') as handle:\n",
    "    k = pickle.load(handle)"
   ]
  },
  {
   "cell_type": "code",
   "execution_count": 15,
   "id": "a6c81ccf-ec11-48ce-8c6e-9bff871eefc1",
   "metadata": {},
   "outputs": [],
   "source": [
    "def del_list_indexes(l, id_to_del):\n",
    "    somelist = [i for j, i in enumerate(l) if j not in id_to_del]\n",
    "    return somelist"
   ]
  },
  {
   "cell_type": "code",
   "execution_count": 16,
   "id": "15d2d97f-8b11-4945-bec7-6bf2c419f0d6",
   "metadata": {},
   "outputs": [],
   "source": [
    "k = del_list_indexes(k, range(1,500)) # I dont care about ~200 observations :/"
   ]
  },
  {
   "cell_type": "code",
   "execution_count": 17,
   "id": "bad9890a-2e8c-42ac-aef7-c2dd76cd72c4",
   "metadata": {},
   "outputs": [],
   "source": [
    "k = pd.Series(k)"
   ]
  },
  {
   "cell_type": "code",
   "execution_count": 18,
   "id": "24dbf593-8a71-409d-85d9-730baae8b798",
   "metadata": {},
   "outputs": [
    {
     "data": {
      "text/plain": [
       "0    [Submit Donation, Your Full Name, Phone Number...\n",
       "1    [DHC - Pay Your Bill, Submit, Patient Name, Da...\n",
       "2    [Please enter the amount due as discussed with...\n",
       "3    [Order Details, Full Name, E-mail, Attachments...\n",
       "4    [Donate to Brooklyn Youth Chorus, Name, Email,...\n",
       "dtype: object"
      ]
     },
     "execution_count": 18,
     "metadata": {},
     "output_type": "execute_result"
    }
   ],
   "source": [
    "k.head()"
   ]
  },
  {
   "cell_type": "code",
   "execution_count": 85,
   "id": "48f3c6df-f7e1-46e4-aed6-44cdf6a62510",
   "metadata": {},
   "outputs": [],
   "source": [
    "spaced_k = pd.Series([' '.join(i) for i in k])"
   ]
  },
  {
   "cell_type": "markdown",
   "id": "894daf49-fd06-4d27-9eb6-11eeffd86e6b",
   "metadata": {},
   "source": [
    "20000 Obs will be enough i think"
   ]
  },
  {
   "cell_type": "code",
   "execution_count": 89,
   "id": "f5effb7b-fb3a-4a3b-aca6-106b12f4123f",
   "metadata": {},
   "outputs": [],
   "source": [
    "tokens = [nlp(i) for i in spaced_k[:20000]]"
   ]
  },
  {
   "cell_type": "code",
   "execution_count": 93,
   "id": "a879cb3c-a46c-4321-a6ac-53590e5a45ff",
   "metadata": {},
   "outputs": [
    {
     "data": {
      "text/html": [
       "<div>\n",
       "<style scoped>\n",
       "    .dataframe tbody tr th:only-of-type {\n",
       "        vertical-align: middle;\n",
       "    }\n",
       "\n",
       "    .dataframe tbody tr th {\n",
       "        vertical-align: top;\n",
       "    }\n",
       "\n",
       "    .dataframe thead th {\n",
       "        text-align: right;\n",
       "    }\n",
       "</style>\n",
       "<table border=\"1\" class=\"dataframe\">\n",
       "  <thead>\n",
       "    <tr style=\"text-align: right;\">\n",
       "      <th></th>\n",
       "      <th>label</th>\n",
       "      <th>text</th>\n",
       "    </tr>\n",
       "  </thead>\n",
       "  <tbody>\n",
       "    <tr>\n",
       "      <th>0</th>\n",
       "      <td>[service fee]</td>\n",
       "      <td>18x24 Yard Signs - EXPIRES Dec 31st @ 11:59pm....</td>\n",
       "    </tr>\n",
       "    <tr>\n",
       "      <th>1</th>\n",
       "      <td>[service fee]</td>\n",
       "      <td>Deprecated Drive-Thru Booking. Test Date. Page...</td>\n",
       "    </tr>\n",
       "    <tr>\n",
       "      <th>2</th>\n",
       "      <td>[service fee]</td>\n",
       "      <td>BuySocialTraffic Service Order Form. E-mail. S...</td>\n",
       "    </tr>\n",
       "    <tr>\n",
       "      <th>3</th>\n",
       "      <td>[donation]</td>\n",
       "      <td>Donation Amount</td>\n",
       "    </tr>\n",
       "    <tr>\n",
       "      <th>4</th>\n",
       "      <td>[donation]</td>\n",
       "      <td>Submit. Enter Donation Amount Here. What would...</td>\n",
       "    </tr>\n",
       "  </tbody>\n",
       "</table>\n",
       "</div>"
      ],
      "text/plain": [
       "           label                                               text\n",
       "0  [service fee]  18x24 Yard Signs - EXPIRES Dec 31st @ 11:59pm....\n",
       "1  [service fee]  Deprecated Drive-Thru Booking. Test Date. Page...\n",
       "2  [service fee]  BuySocialTraffic Service Order Form. E-mail. S...\n",
       "3     [donation]                                    Donation Amount\n",
       "4     [donation]  Submit. Enter Donation Amount Here. What would..."
      ]
     },
     "execution_count": 93,
     "metadata": {},
     "output_type": "execute_result"
    }
   ],
   "source": [
    "hand.head()"
   ]
  },
  {
   "cell_type": "code",
   "execution_count": 94,
   "id": "451d9723-cbf4-43b6-80e8-0fd60b95ff1e",
   "metadata": {},
   "outputs": [],
   "source": [
    "labels = {\n",
    "'donation':0,\n",
    "'subscription':1,\n",
    "'membership':2,\n",
    "'service fee':3,\n",
    "'application fee':4,\n",
    "'registration fee':5,\n",
    "'product fee':6,\n",
    "'contract fee':7,\n",
    "'setup fee':8,\n",
    "'course fee':9,\n",
    "'deposit fee':10}\n",
    "ll = list(labels.keys())\n",
    "c2l = {v:i for i,v in labels.items()}"
   ]
  },
  {
   "cell_type": "code",
   "execution_count": 97,
   "id": "9fab0a90-90da-4b56-8a51-8602b0802ffb",
   "metadata": {},
   "outputs": [],
   "source": [
    "hand = hand.join(hand['label'].str.join('|').str.get_dummies())"
   ]
  },
  {
   "cell_type": "code",
   "execution_count": 99,
   "id": "8ceb208a-8da7-4507-ad2a-8424bea9cec3",
   "metadata": {},
   "outputs": [
    {
     "data": {
      "text/html": [
       "<div>\n",
       "<style scoped>\n",
       "    .dataframe tbody tr th:only-of-type {\n",
       "        vertical-align: middle;\n",
       "    }\n",
       "\n",
       "    .dataframe tbody tr th {\n",
       "        vertical-align: top;\n",
       "    }\n",
       "\n",
       "    .dataframe thead th {\n",
       "        text-align: right;\n",
       "    }\n",
       "</style>\n",
       "<table border=\"1\" class=\"dataframe\">\n",
       "  <thead>\n",
       "    <tr style=\"text-align: right;\">\n",
       "      <th></th>\n",
       "      <th>label</th>\n",
       "      <th>text</th>\n",
       "      <th>application fee</th>\n",
       "      <th>course fee</th>\n",
       "      <th>deposit fee</th>\n",
       "      <th>donation</th>\n",
       "      <th>membership</th>\n",
       "      <th>product fee</th>\n",
       "      <th>registration fee</th>\n",
       "      <th>service fee</th>\n",
       "      <th>setup fee</th>\n",
       "      <th>subsciption</th>\n",
       "      <th>upgrading fee</th>\n",
       "    </tr>\n",
       "  </thead>\n",
       "  <tbody>\n",
       "    <tr>\n",
       "      <th>0</th>\n",
       "      <td>[service fee]</td>\n",
       "      <td>18x24 Yard Signs - EXPIRES Dec 31st @ 11:59pm....</td>\n",
       "      <td>0</td>\n",
       "      <td>0</td>\n",
       "      <td>0</td>\n",
       "      <td>0</td>\n",
       "      <td>0</td>\n",
       "      <td>0</td>\n",
       "      <td>0</td>\n",
       "      <td>1</td>\n",
       "      <td>0</td>\n",
       "      <td>0</td>\n",
       "      <td>0</td>\n",
       "    </tr>\n",
       "    <tr>\n",
       "      <th>1</th>\n",
       "      <td>[service fee]</td>\n",
       "      <td>Deprecated Drive-Thru Booking. Test Date. Page...</td>\n",
       "      <td>0</td>\n",
       "      <td>0</td>\n",
       "      <td>0</td>\n",
       "      <td>0</td>\n",
       "      <td>0</td>\n",
       "      <td>0</td>\n",
       "      <td>0</td>\n",
       "      <td>1</td>\n",
       "      <td>0</td>\n",
       "      <td>0</td>\n",
       "      <td>0</td>\n",
       "    </tr>\n",
       "    <tr>\n",
       "      <th>2</th>\n",
       "      <td>[service fee]</td>\n",
       "      <td>BuySocialTraffic Service Order Form. E-mail. S...</td>\n",
       "      <td>0</td>\n",
       "      <td>0</td>\n",
       "      <td>0</td>\n",
       "      <td>0</td>\n",
       "      <td>0</td>\n",
       "      <td>0</td>\n",
       "      <td>0</td>\n",
       "      <td>1</td>\n",
       "      <td>0</td>\n",
       "      <td>0</td>\n",
       "      <td>0</td>\n",
       "    </tr>\n",
       "    <tr>\n",
       "      <th>3</th>\n",
       "      <td>[donation]</td>\n",
       "      <td>Donation Amount</td>\n",
       "      <td>0</td>\n",
       "      <td>0</td>\n",
       "      <td>0</td>\n",
       "      <td>1</td>\n",
       "      <td>0</td>\n",
       "      <td>0</td>\n",
       "      <td>0</td>\n",
       "      <td>0</td>\n",
       "      <td>0</td>\n",
       "      <td>0</td>\n",
       "      <td>0</td>\n",
       "    </tr>\n",
       "    <tr>\n",
       "      <th>4</th>\n",
       "      <td>[donation]</td>\n",
       "      <td>Submit. Enter Donation Amount Here. What would...</td>\n",
       "      <td>0</td>\n",
       "      <td>0</td>\n",
       "      <td>0</td>\n",
       "      <td>1</td>\n",
       "      <td>0</td>\n",
       "      <td>0</td>\n",
       "      <td>0</td>\n",
       "      <td>0</td>\n",
       "      <td>0</td>\n",
       "      <td>0</td>\n",
       "      <td>0</td>\n",
       "    </tr>\n",
       "  </tbody>\n",
       "</table>\n",
       "</div>"
      ],
      "text/plain": [
       "           label                                               text  \\\n",
       "0  [service fee]  18x24 Yard Signs - EXPIRES Dec 31st @ 11:59pm....   \n",
       "1  [service fee]  Deprecated Drive-Thru Booking. Test Date. Page...   \n",
       "2  [service fee]  BuySocialTraffic Service Order Form. E-mail. S...   \n",
       "3     [donation]                                    Donation Amount   \n",
       "4     [donation]  Submit. Enter Donation Amount Here. What would...   \n",
       "\n",
       "   application fee  course fee  deposit fee  donation  membership  \\\n",
       "0                0           0            0         0           0   \n",
       "1                0           0            0         0           0   \n",
       "2                0           0            0         0           0   \n",
       "3                0           0            0         1           0   \n",
       "4                0           0            0         1           0   \n",
       "\n",
       "   product fee  registration fee  service fee  setup fee  subsciption  \\\n",
       "0            0                 0            1          0            0   \n",
       "1            0                 0            1          0            0   \n",
       "2            0                 0            1          0            0   \n",
       "3            0                 0            0          0            0   \n",
       "4            0                 0            0          0            0   \n",
       "\n",
       "   upgrading fee  \n",
       "0              0  \n",
       "1              0  \n",
       "2              0  \n",
       "3              0  \n",
       "4              0  "
      ]
     },
     "execution_count": 99,
     "metadata": {},
     "output_type": "execute_result"
    }
   ],
   "source": [
    "hand.head()"
   ]
  },
  {
   "cell_type": "code",
   "execution_count": 100,
   "id": "12c1e488-a0e2-4603-b322-04cf779cd877",
   "metadata": {},
   "outputs": [],
   "source": [
    "hand['text'] = hand.text.apply(lambda x: nlp(x))"
   ]
  },
  {
   "cell_type": "code",
   "execution_count": 101,
   "id": "2dacfa82-9af3-420c-bbfe-969afed29a50",
   "metadata": {},
   "outputs": [
    {
     "data": {
      "text/html": [
       "<div>\n",
       "<style scoped>\n",
       "    .dataframe tbody tr th:only-of-type {\n",
       "        vertical-align: middle;\n",
       "    }\n",
       "\n",
       "    .dataframe tbody tr th {\n",
       "        vertical-align: top;\n",
       "    }\n",
       "\n",
       "    .dataframe thead th {\n",
       "        text-align: right;\n",
       "    }\n",
       "</style>\n",
       "<table border=\"1\" class=\"dataframe\">\n",
       "  <thead>\n",
       "    <tr style=\"text-align: right;\">\n",
       "      <th></th>\n",
       "      <th>label</th>\n",
       "      <th>text</th>\n",
       "      <th>application fee</th>\n",
       "      <th>course fee</th>\n",
       "      <th>deposit fee</th>\n",
       "      <th>donation</th>\n",
       "      <th>membership</th>\n",
       "      <th>product fee</th>\n",
       "      <th>registration fee</th>\n",
       "      <th>service fee</th>\n",
       "      <th>setup fee</th>\n",
       "      <th>subsciption</th>\n",
       "      <th>upgrading fee</th>\n",
       "    </tr>\n",
       "  </thead>\n",
       "  <tbody>\n",
       "    <tr>\n",
       "      <th>0</th>\n",
       "      <td>[service fee]</td>\n",
       "      <td>(18x24, Yard, Signs, -, EXPIRES, Dec, 31st, @,...</td>\n",
       "      <td>0</td>\n",
       "      <td>0</td>\n",
       "      <td>0</td>\n",
       "      <td>0</td>\n",
       "      <td>0</td>\n",
       "      <td>0</td>\n",
       "      <td>0</td>\n",
       "      <td>1</td>\n",
       "      <td>0</td>\n",
       "      <td>0</td>\n",
       "      <td>0</td>\n",
       "    </tr>\n",
       "    <tr>\n",
       "      <th>1</th>\n",
       "      <td>[service fee]</td>\n",
       "      <td>(Deprecated, Drive, -, Thru, Booking, ., Test,...</td>\n",
       "      <td>0</td>\n",
       "      <td>0</td>\n",
       "      <td>0</td>\n",
       "      <td>0</td>\n",
       "      <td>0</td>\n",
       "      <td>0</td>\n",
       "      <td>0</td>\n",
       "      <td>1</td>\n",
       "      <td>0</td>\n",
       "      <td>0</td>\n",
       "      <td>0</td>\n",
       "    </tr>\n",
       "    <tr>\n",
       "      <th>2</th>\n",
       "      <td>[service fee]</td>\n",
       "      <td>(BuySocialTraffic, Service, Order, Form, ., E,...</td>\n",
       "      <td>0</td>\n",
       "      <td>0</td>\n",
       "      <td>0</td>\n",
       "      <td>0</td>\n",
       "      <td>0</td>\n",
       "      <td>0</td>\n",
       "      <td>0</td>\n",
       "      <td>1</td>\n",
       "      <td>0</td>\n",
       "      <td>0</td>\n",
       "      <td>0</td>\n",
       "    </tr>\n",
       "    <tr>\n",
       "      <th>3</th>\n",
       "      <td>[donation]</td>\n",
       "      <td>(Donation, Amount)</td>\n",
       "      <td>0</td>\n",
       "      <td>0</td>\n",
       "      <td>0</td>\n",
       "      <td>1</td>\n",
       "      <td>0</td>\n",
       "      <td>0</td>\n",
       "      <td>0</td>\n",
       "      <td>0</td>\n",
       "      <td>0</td>\n",
       "      <td>0</td>\n",
       "      <td>0</td>\n",
       "    </tr>\n",
       "    <tr>\n",
       "      <th>4</th>\n",
       "      <td>[donation]</td>\n",
       "      <td>(Submit, ., Enter, Donation, Amount, Here, ., ...</td>\n",
       "      <td>0</td>\n",
       "      <td>0</td>\n",
       "      <td>0</td>\n",
       "      <td>1</td>\n",
       "      <td>0</td>\n",
       "      <td>0</td>\n",
       "      <td>0</td>\n",
       "      <td>0</td>\n",
       "      <td>0</td>\n",
       "      <td>0</td>\n",
       "      <td>0</td>\n",
       "    </tr>\n",
       "  </tbody>\n",
       "</table>\n",
       "</div>"
      ],
      "text/plain": [
       "           label                                               text  \\\n",
       "0  [service fee]  (18x24, Yard, Signs, -, EXPIRES, Dec, 31st, @,...   \n",
       "1  [service fee]  (Deprecated, Drive, -, Thru, Booking, ., Test,...   \n",
       "2  [service fee]  (BuySocialTraffic, Service, Order, Form, ., E,...   \n",
       "3     [donation]                                 (Donation, Amount)   \n",
       "4     [donation]  (Submit, ., Enter, Donation, Amount, Here, ., ...   \n",
       "\n",
       "   application fee  course fee  deposit fee  donation  membership  \\\n",
       "0                0           0            0         0           0   \n",
       "1                0           0            0         0           0   \n",
       "2                0           0            0         0           0   \n",
       "3                0           0            0         1           0   \n",
       "4                0           0            0         1           0   \n",
       "\n",
       "   product fee  registration fee  service fee  setup fee  subsciption  \\\n",
       "0            0                 0            1          0            0   \n",
       "1            0                 0            1          0            0   \n",
       "2            0                 0            1          0            0   \n",
       "3            0                 0            0          0            0   \n",
       "4            0                 0            0          0            0   \n",
       "\n",
       "   upgrading fee  \n",
       "0              0  \n",
       "1              0  \n",
       "2              0  \n",
       "3              0  \n",
       "4              0  "
      ]
     },
     "execution_count": 101,
     "metadata": {},
     "output_type": "execute_result"
    }
   ],
   "source": [
    "hand.head()"
   ]
  },
  {
   "cell_type": "code",
   "execution_count": 103,
   "id": "caaa2f90-eb98-4a70-b9ed-4568ad079d9a",
   "metadata": {},
   "outputs": [],
   "source": [
    "with open('hand_train.pkl', 'wb') as handle:\n",
    "    pickle.dump(hand, handle, protocol=pickle.HIGHEST_PROTOCOL)"
   ]
  },
  {
   "cell_type": "code",
   "execution_count": 120,
   "id": "3dd36101-60d2-44f4-b5a3-c56634b713f1",
   "metadata": {},
   "outputs": [],
   "source": [
    "with open('data3.pkl', 'wb') as handle:\n",
    "    pickle.dump(tokens, handle, protocol=pickle.HIGHEST_PROTOCOL)"
   ]
  },
  {
   "cell_type": "markdown",
   "id": "dc6839cc-21b1-4d81-8aa4-831e3d7f124a",
   "metadata": {},
   "source": [
    "# Checkpoint 3"
   ]
  },
  {
   "cell_type": "code",
   "execution_count": 3,
   "id": "2fa85263-aecd-4465-96d3-d25327135c96",
   "metadata": {},
   "outputs": [],
   "source": [
    "with open('hand_train.pkl', 'rb') as handle:\n",
    "    hand = pickle.load(handle)"
   ]
  },
  {
   "cell_type": "code",
   "execution_count": 5,
   "id": "bd4bddaf-bf41-427c-914e-2b929498ba33",
   "metadata": {},
   "outputs": [
    {
     "ename": "EOFError",
     "evalue": "Ran out of input",
     "output_type": "error",
     "traceback": [
      "\u001b[1;31m---------------------------------------------------------------------------\u001b[0m",
      "\u001b[1;31mEOFError\u001b[0m                                  Traceback (most recent call last)",
      "Input \u001b[1;32mIn [5]\u001b[0m, in \u001b[0;36m<cell line: 1>\u001b[1;34m()\u001b[0m\n\u001b[0;32m      1\u001b[0m \u001b[38;5;28;01mwith\u001b[39;00m \u001b[38;5;28mopen\u001b[39m(\u001b[38;5;124m'\u001b[39m\u001b[38;5;124mdata3.pkl\u001b[39m\u001b[38;5;124m'\u001b[39m, \u001b[38;5;124m'\u001b[39m\u001b[38;5;124mrb\u001b[39m\u001b[38;5;124m'\u001b[39m) \u001b[38;5;28;01mas\u001b[39;00m handle:\n\u001b[1;32m----> 2\u001b[0m     k \u001b[38;5;241m=\u001b[39m \u001b[43mpickle\u001b[49m\u001b[38;5;241;43m.\u001b[39;49m\u001b[43mload\u001b[49m\u001b[43m(\u001b[49m\u001b[43mhandle\u001b[49m\u001b[43m)\u001b[49m\n",
      "\u001b[1;31mEOFError\u001b[0m: Ran out of input"
     ]
    }
   ],
   "source": [
    "with open('data3.pkl', 'rb') as handle:\n",
    "    k = pickle.load(handle)"
   ]
  },
  {
   "cell_type": "code",
   "execution_count": 10,
   "id": "3a8c2fbc-456e-41c9-b562-139a74d4252b",
   "metadata": {},
   "outputs": [
    {
     "data": {
      "text/plain": [
       "20000"
      ]
     },
     "execution_count": 10,
     "metadata": {},
     "output_type": "execute_result"
    }
   ],
   "source": [
    "len(k)"
   ]
  },
  {
   "cell_type": "code",
   "execution_count": 13,
   "id": "ef693f0f-e089-4f13-ae3e-1d4c68a0ebe3",
   "metadata": {},
   "outputs": [],
   "source": [
    "hand['vector'] = hand.text.apply(lambda x: np.mean([i.vector for i in x], axis=0))"
   ]
  },
  {
   "cell_type": "code",
   "execution_count": 22,
   "id": "3e9cbd0d-8e2c-46b7-96a3-230868575e42",
   "metadata": {},
   "outputs": [
    {
     "name": "stderr",
     "output_type": "stream",
     "text": [
      "C:\\Python\\envs\\myenv\\lib\\site-packages\\numpy\\core\\fromnumeric.py:3432: RuntimeWarning: Mean of empty slice.\n",
      "  return _methods._mean(a, axis=axis, dtype=dtype,\n"
     ]
    }
   ],
   "source": [
    "k = pd.Series(k)\n",
    "k['vector'] = k.apply(lambda x: np.mean([i.vector for i in x], axis=0))"
   ]
  },
  {
   "cell_type": "code",
   "execution_count": 25,
   "id": "14dda7ff-e91b-492d-a5a4-0014f0ee8594",
   "metadata": {},
   "outputs": [],
   "source": [
    "with open('hand_train.pkl', 'wb') as handle:\n",
    "    pickle.dump(hand, handle, protocol=pickle.HIGHEST_PROTOCOL)"
   ]
  },
  {
   "cell_type": "code",
   "execution_count": 27,
   "id": "b721fc49-04d7-472f-951f-22c12c4c7739",
   "metadata": {},
   "outputs": [],
   "source": [
    "with open('data4.pkl', 'wb') as handle:\n",
    "    pickle.dump(k, handle, protocol=pickle.HIGHEST_PROTOCOL)"
   ]
  },
  {
   "cell_type": "markdown",
   "id": "9847fd82-6be2-449b-b034-02234789056f",
   "metadata": {},
   "source": [
    "# Machine learning"
   ]
  },
  {
   "cell_type": "code",
   "execution_count": 97,
   "id": "6570a8f1-4a48-47a6-a6b3-69b0840d7e58",
   "metadata": {},
   "outputs": [],
   "source": [
    "with open('hand_train.pkl', 'rb') as handle:\n",
    "    hand = pickle.load(handle)"
   ]
  },
  {
   "cell_type": "code",
   "execution_count": 2,
   "id": "6f38d810-a25e-4abd-a4c4-a59727431df9",
   "metadata": {},
   "outputs": [],
   "source": [
    "with open('good_train.pkl', 'rb') as handle:\n",
    "    good_train = pickle.load(handle)"
   ]
  },
  {
   "cell_type": "code",
   "execution_count": 3,
   "id": "25196b55-7413-419b-b02e-f1b9d1ebd2e4",
   "metadata": {},
   "outputs": [],
   "source": [
    "good_train['vector'] = good_train.Text.apply(lambda x: np.mean([i.vector for i in nlp(x)], axis=0))"
   ]
  },
  {
   "cell_type": "code",
   "execution_count": 11,
   "id": "cb8683de-d1bc-49df-90ee-2c47bb87465b",
   "metadata": {},
   "outputs": [],
   "source": [
    "with open('data4.pkl', 'rb') as handle:\n",
    "    k = pickle.load(handle)"
   ]
  },
  {
   "cell_type": "code",
   "execution_count": 4,
   "id": "4234be9a-ce41-4bc6-8304-56a818c5dd40",
   "metadata": {},
   "outputs": [],
   "source": [
    "from sklearn.model_selection import train_test_split\n",
    "from sklearn.metrics import classification_report\n",
    "from sklearn.multiclass import OneVsRestClassifier\n",
    "from sklearn.svm import SVC\n",
    "from sklearn.ensemble import RandomForestClassifier"
   ]
  },
  {
   "cell_type": "code",
   "execution_count": 5,
   "id": "13d547d3-3990-4c3a-8c7c-51d0586dcb60",
   "metadata": {},
   "outputs": [],
   "source": [
    "from imblearn.over_sampling import SMOTE"
   ]
  },
  {
   "cell_type": "code",
   "execution_count": 6,
   "id": "051feadd-bf1a-4836-84a1-1203ee863bd8",
   "metadata": {},
   "outputs": [
    {
     "data": {
      "text/plain": [
       "application fee       58\n",
       "contract fee          17\n",
       "course fee           125\n",
       "deposit fee           89\n",
       "donation             681\n",
       "membership           878\n",
       "product fee          395\n",
       "registration fee     107\n",
       "service fee          486\n",
       "setup fee             52\n",
       "subscription        1112\n",
       "dtype: int64"
      ]
     },
     "execution_count": 6,
     "metadata": {},
     "output_type": "execute_result"
    }
   ],
   "source": [
    "good_train.Label.str.get_dummies().sum(axis=0)"
   ]
  },
  {
   "cell_type": "code",
   "execution_count": 7,
   "id": "97fe193e-f399-4931-9baf-595c95269f22",
   "metadata": {},
   "outputs": [
    {
     "data": {
      "text/plain": [
       "subscription        1112\n",
       "membership           878\n",
       "donation             681\n",
       "service fee          486\n",
       "product fee          395\n",
       "course fee           125\n",
       "registration fee     107\n",
       "deposit fee           89\n",
       "application fee       58\n",
       "setup fee             52\n",
       "contract fee          17\n",
       "Name: Label, dtype: int64"
      ]
     },
     "execution_count": 7,
     "metadata": {},
     "output_type": "execute_result"
    }
   ],
   "source": [
    "good_train.Label.value_counts()"
   ]
  },
  {
   "cell_type": "code",
   "execution_count": 6,
   "id": "bba9ba3a-74b6-4a84-a0a5-763fb35d902c",
   "metadata": {
    "tags": []
   },
   "outputs": [],
   "source": [
    "labels = {\n",
    "\"application fee\": 0,\n",
    "\"course fee\": 1,\n",
    "\"deposit fee\": 2,\n",
    "\"donation\": 3,\n",
    "\"membership\": 4,\n",
    "\"product fee\": 5,\n",
    "\"registration fee\": 6,\n",
    "\"service fee\": 7,\n",
    "\"setup fee\": 8,\n",
    "\"contract fee\": 9,\n",
    "\"subscription\": 10}\n",
    "ll = list(labels.keys())\n",
    "c2l = {v:i for i,v in labels.items()}"
   ]
  },
  {
   "cell_type": "code",
   "execution_count": 7,
   "id": "29920d44-bff3-4766-bf5d-7a664943a893",
   "metadata": {},
   "outputs": [],
   "source": [
    "X_resampled, y_resampled = SMOTE().fit_resample(list(good_train.loc[:,'vector']), good_train.Label.map(labels))"
   ]
  },
  {
   "cell_type": "code",
   "execution_count": 8,
   "id": "e063b7ca-90c1-4af9-8209-049c9806f286",
   "metadata": {},
   "outputs": [],
   "source": [
    "x_train, x_test, y_train, y_test = train_test_split(X_resampled, y_resampled, test_size=.3, random_state=405)"
   ]
  },
  {
   "cell_type": "code",
   "execution_count": 9,
   "id": "2962300e-ee01-465f-a0da-1450ebb91e44",
   "metadata": {},
   "outputs": [
    {
     "name": "stdout",
     "output_type": "stream",
     "text": [
      "                  precision    recall  f1-score   support\n",
      "\n",
      " application fee       0.97      1.00      0.99       339\n",
      "      course fee       0.94      1.00      0.97       315\n",
      "     deposit fee       0.97      1.00      0.98       335\n",
      "        donation       0.87      0.79      0.83       329\n",
      "      membership       0.74      0.77      0.75       355\n",
      "     product fee       0.79      0.89      0.84       338\n",
      "registration fee       0.98      0.99      0.99       315\n",
      "     service fee       0.82      0.84      0.83       327\n",
      "       setup fee       0.99      1.00      1.00       341\n",
      "    contract fee       1.00      1.00      1.00       336\n",
      "    subscription       0.67      0.51      0.58       340\n",
      "\n",
      "        accuracy                           0.89      3670\n",
      "       macro avg       0.89      0.89      0.89      3670\n",
      "    weighted avg       0.88      0.89      0.88      3670\n",
      "\n"
     ]
    }
   ],
   "source": [
    "lsvm = RandomForestClassifier(n_estimators=500)\n",
    "\n",
    "cm = lsvm\n",
    "cm.fit(list(x_train), y_train)\n",
    "preds = cm.predict(list(x_test))\n",
    "print(classification_report(y_test, preds, target_names=ll))"
   ]
  },
  {
   "cell_type": "code",
   "execution_count": 23,
   "id": "0dc18b9a-8cfd-4c66-a5af-2e9e84b7129f",
   "metadata": {},
   "outputs": [
    {
     "data": {
      "text/plain": [
       "(129462,)"
      ]
     },
     "execution_count": 23,
     "metadata": {},
     "output_type": "execute_result"
    }
   ],
   "source": [
    "k.shape"
   ]
  },
  {
   "cell_type": "code",
   "execution_count": 19,
   "id": "f3e85197-c5f3-49ae-b2f2-16adb47a6e8d",
   "metadata": {},
   "outputs": [],
   "source": [
    "test = np.mean([i.vector for i in nlp(' '.join(k[45680]))], axis=0)"
   ]
  },
  {
   "cell_type": "code",
   "execution_count": 20,
   "id": "cb874e7a-404f-4ca3-aec1-d4a765d40419",
   "metadata": {},
   "outputs": [
    {
     "data": {
      "text/plain": [
       "'membership'"
      ]
     },
     "execution_count": 20,
     "metadata": {},
     "output_type": "execute_result"
    }
   ],
   "source": [
    "c2l[cm.predict(test.reshape(1,-1))[0]]"
   ]
  },
  {
   "cell_type": "code",
   "execution_count": 131,
   "id": "94cc9555-f041-4834-ba38-361063f49177",
   "metadata": {},
   "outputs": [],
   "source": [
    "test = np.mean([i.vector for i in nlp(' '.join(k[45679]))], axis=0)"
   ]
  },
  {
   "cell_type": "code",
   "execution_count": 132,
   "id": "4a95afb2-db93-42e5-af9f-adc4740a67f8",
   "metadata": {},
   "outputs": [
    {
     "data": {
      "text/plain": [
       "'product fee'"
      ]
     },
     "execution_count": 132,
     "metadata": {},
     "output_type": "execute_result"
    }
   ],
   "source": [
    "c2l[cm.predict(test.reshape(1,-1))[0]]"
   ]
  }
 ],
 "metadata": {
  "kernelspec": {
   "display_name": "Python 3 (ipykernel)",
   "language": "python",
   "name": "python3"
  },
  "language_info": {
   "codemirror_mode": {
    "name": "ipython",
    "version": 3
   },
   "file_extension": ".py",
   "mimetype": "text/x-python",
   "name": "python",
   "nbconvert_exporter": "python",
   "pygments_lexer": "ipython3",
   "version": "3.10.3"
  }
 },
 "nbformat": 4,
 "nbformat_minor": 5
}
